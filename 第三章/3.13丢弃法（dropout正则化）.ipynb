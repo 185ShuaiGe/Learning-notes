{
 "cells": [
  {
   "cell_type": "markdown",
   "metadata": {},
   "source": [
    "## 2.从零开始实现"
   ]
  },
  {
   "cell_type": "code",
   "execution_count": 15,
   "metadata": {},
   "outputs": [],
   "source": [
    "import d2lzh as d2l\n",
    "from mxnet import autograd, nd, init, gluon\n",
    "from mxnet.gluon import loss as gloss, nn\n",
    "import collections\n",
    "\n",
    "def dropout(X, drop_prob):\n",
    "    assert 0 <= drop_prob <= 1\n",
    "    keep_prob = 1 - drop_prob\n",
    "    # 这种情况下把全部元素都丢弃\n",
    "    if keep_prob == 0:\n",
    "        return X.zeros_like()\n",
    "    mask = nd.random.uniform(0, 1, X.shape) < keep_prob\n",
    "    return mask * X / keep_prob"
   ]
  },
  {
   "cell_type": "code",
   "execution_count": 13,
   "metadata": {},
   "outputs": [
    {
     "data": {
      "text/plain": [
       "\n",
       "[[ 0.  1.  2.  3.  4.  5.  6.  7.]\n",
       " [ 8.  9. 10. 11. 12. 13. 14. 15.]]\n",
       "<NDArray 2x8 @cpu(0)>"
      ]
     },
     "execution_count": 13,
     "metadata": {},
     "output_type": "execute_result"
    }
   ],
   "source": [
    "X = nd.arange(16).reshape((2, 8))\n",
    "dropout(X, 0)"
   ]
  },
  {
   "cell_type": "code",
   "execution_count": 14,
   "metadata": {},
   "outputs": [
    {
     "data": {
      "text/plain": [
       "\n",
       "[[ 0.  0.  4.  0.  8.  0. 12. 14.]\n",
       " [16. 18.  0.  0. 24. 26. 28.  0.]]\n",
       "<NDArray 2x8 @cpu(0)>"
      ]
     },
     "execution_count": 14,
     "metadata": {},
     "output_type": "execute_result"
    }
   ],
   "source": [
    "dropout(X, 0.5)"
   ]
  },
  {
   "cell_type": "code",
   "execution_count": 15,
   "metadata": {},
   "outputs": [
    {
     "data": {
      "text/plain": [
       "\n",
       "[[0. 0. 0. 0. 0. 0. 0. 0.]\n",
       " [0. 0. 0. 0. 0. 0. 0. 0.]]\n",
       "<NDArray 2x8 @cpu(0)>"
      ]
     },
     "execution_count": 15,
     "metadata": {},
     "output_type": "execute_result"
    }
   ],
   "source": [
    "dropout(X, 1)"
   ]
  },
  {
   "cell_type": "code",
   "execution_count": 16,
   "metadata": {},
   "outputs": [],
   "source": [
    "# 定于模型参数\n",
    "num_inputs, num_outputs, num_hiddens1, num_hiddens2 = 784, 10, 256, 256\n",
    "W1 = nd.random.normal(scale = 0.01, shape = (num_inputs, num_hiddens1))\n",
    "b1 = nd.zeros(num_hiddens1)\n",
    "W2 = nd.random.normal(scale = 0.01, shape = (num_hiddens1, num_hiddens2))\n",
    "b2 = nd.zeros(num_hiddens2)\n",
    "W3 = nd.random.normal(scale = 0.01, shape = (num_hiddens2, num_outputs))\n",
    "b3 = nd.zeros(num_outputs)\n",
    "\n",
    "params = [W1, b1, W2, b2, W3, b3]\n",
    "for param in params:\n",
    "    param.attach_grad()"
   ]
  },
  {
   "cell_type": "code",
   "execution_count": 17,
   "metadata": {},
   "outputs": [],
   "source": [
    "#定义模型\n",
    "drop_prob1, drop_prob2 = 0.2, 0.5\n",
    "\n",
    "def net(X):\n",
    "    X = X.reshape((-1, num_inputs))\n",
    "    H1 = (nd.dot(X, W1) + b1).relu()\n",
    "    if autograd.is_training():\n",
    "        H1 = dropout(H1, drop_prob1)\n",
    "    H2 = (nd.dot(H1, W2) + b2).relu()\n",
    "    if autograd.is_training():\n",
    "        H2 = dropout(H2, drop_prob2)\n",
    "    return nd.dot(H2, W3) + b3"
   ]
  },
  {
   "cell_type": "code",
   "execution_count": 18,
   "metadata": {},
   "outputs": [
    {
     "name": "stdout",
     "output_type": "stream",
     "text": [
      "epoch 1, loss 1.1395, train acc 0.564, test acc 0.788\n",
      "epoch 2, loss 0.5766, train acc 0.786, test acc 0.840\n",
      "epoch 3, loss 0.4971, train acc 0.819, test acc 0.845\n",
      "epoch 4, loss 0.4511, train acc 0.837, test acc 0.863\n",
      "epoch 5, loss 0.4225, train acc 0.846, test acc 0.863\n"
     ]
    }
   ],
   "source": [
    "# 训练和测试模型\n",
    "num_epochs, lr, batch_size = 5, 0.5, 256\n",
    "loss = gloss.SoftmaxCrossEntropyLoss()\n",
    "train_iter, test_iter = d2l.load_data_fashion_mnist(batch_size)\n",
    "d2l.train_ch3(net, train_iter, test_iter, loss, num_epochs, batch_size, params, lr)"
   ]
  },
  {
   "cell_type": "markdown",
   "metadata": {},
   "source": [
    "## 3.简洁实现"
   ]
  },
  {
   "cell_type": "code",
   "execution_count": 19,
   "metadata": {},
   "outputs": [],
   "source": [
    "net = nn.Sequential()\n",
    "net.add(nn.Dense(256, activation = 'relu'),\n",
    "        nn.Dropout(drop_prob1),\n",
    "        nn.Dense(256, activation = 'relu'),\n",
    "        nn.Dropout(drop_prob2),\n",
    "        nn.Dense(10))\n",
    "net.initialize(init.Normal(sigma = 0.01))"
   ]
  },
  {
   "cell_type": "code",
   "execution_count": 20,
   "metadata": {},
   "outputs": [
    {
     "name": "stdout",
     "output_type": "stream",
     "text": [
      "epoch 1, loss 1.1080, train acc 0.569, test acc 0.792\n",
      "epoch 2, loss 0.5738, train acc 0.787, test acc 0.837\n",
      "epoch 3, loss 0.4832, train acc 0.825, test acc 0.845\n",
      "epoch 4, loss 0.4449, train acc 0.839, test acc 0.867\n",
      "epoch 5, loss 0.4131, train acc 0.850, test acc 0.867\n"
     ]
    }
   ],
   "source": [
    "trainer = gluon.Trainer(net.collect_params(), 'sgd', {'learning_rate': lr})\n",
    "d2l.train_ch3(net, train_iter, test_iter, loss, num_epochs, batch_size, None, None, trainer)"
   ]
  },
  {
   "cell_type": "code",
   "execution_count": 9,
   "metadata": {},
   "outputs": [
    {
     "name": "stdout",
     "output_type": "stream",
     "text": [
      "a\n",
      "b\n",
      "c\n"
     ]
    }
   ],
   "source": [
    "s = 'abc'\n",
    "def abc():\n",
    "    return \"\"\n",
    "abc()\n",
    "for i in s:\n",
    "    print(i)"
   ]
  },
  {
   "cell_type": "code",
   "execution_count": null,
   "metadata": {},
   "outputs": [
    {
     "name": "stdout",
     "output_type": "stream",
     "text": [
      "defaultdict(<class 'int'>, {'A': 1, 'B': 1, 'C': 1})\n",
      "3\n",
      "(0, inf)\n"
     ]
    },
    {
     "data": {
      "text/plain": [
       "'BANC'"
      ]
     },
     "execution_count": 4,
     "metadata": {},
     "output_type": "execute_result"
    }
   ],
   "source": [
    "def minWindow(self, s: str, t: str) -> str:\n",
    "        need=collections.defaultdict(int)\n",
    "        for c in t:\n",
    "            need[c]+=1\n",
    "        needCnt=len(t)\n",
    "        i=0\n",
    "        res=(0,float('inf'))\n",
    "        for j,c in enumerate(s):\n",
    "            if need[c]>0:\n",
    "                needCnt-=1\n",
    "            need[c]-=1\n",
    "            if needCnt==0:       #步骤一：滑动窗口包含了所有T元素\n",
    "                while True:      #步骤二：增加i，排除多余元素\n",
    "                    c=s[i] \n",
    "                    if need[c]==0:\n",
    "                        break\n",
    "                    need[c]+=1\n",
    "                    i+=1\n",
    "                if j-i<res[1]-res[0]:   #记录结果\n",
    "                    res=(i,j)\n",
    "                need[s[i]]+=1  #步骤三：i增加一个位置，寻找新的满足条件滑动窗口\n",
    "                needCnt+=1\n",
    "                i+=1\n",
    "        return '' if res[1]>len(s) else s[res[0]:res[1]+1]    #如果res始终没被更新过，代表无满足条件的结果\n",
    "minWindow(1,'ADOBECODEBANC','ABC')"
   ]
  },
  {
   "cell_type": "code",
   "execution_count": 22,
   "metadata": {},
   "outputs": [
    {
     "data": {
      "text/plain": [
       "2"
      ]
     },
     "execution_count": 22,
     "metadata": {},
     "output_type": "execute_result"
    }
   ],
   "source": [
    "def lengthOfLongestSubstring(self, s):\n",
    "    \"\"\"\n",
    "        :type s: str\n",
    "        :rtype: int\n",
    "    \"\"\"\n",
    "    need = collections.defaultdict(int)\n",
    "    maxlen = 1\n",
    "    chong = 0\n",
    "    havechong = 0\n",
    "    i = 0\n",
    "    for j, c in enumerate(s):\n",
    "        \n",
    "        need[c] += 1\n",
    "        if need[c] > 1:\n",
    "            chong = 1\n",
    "        if chong > 0 and need[c] > 1:\n",
    "            if j - i > maxlen:\n",
    "                maxlen = j - i\n",
    "            while i < j:\n",
    "                c = s[i]\n",
    "                i += 1\n",
    "                need[c] -= 1\n",
    "                if need[c] == 1:\n",
    "                    chong = 0\n",
    "                    break\n",
    "        if havechong == 0:\n",
    "            maxlen = j + 1 - i\n",
    "    return 0 if len(s) == 0 else maxlen\n",
    "lengthOfLongestSubstring(1, \"aab\")"
   ]
  },
  {
   "cell_type": "code",
   "execution_count": null,
   "metadata": {},
   "outputs": [],
   "source": [
    "class Solution:\n",
    "    def lengthOfLongestSubstring(self, s: str) -> int:\n",
    "        if not s:return 0\n",
    "        left = 0\n",
    "        lookup = set()\n",
    "        n = len(s)\n",
    "        max_len = 0\n",
    "        cur_len = 0\n",
    "        for i in range(n):\n",
    "            cur_len += 1\n",
    "            while s[i] in lookup:\n",
    "                lookup.remove(s[left])\n",
    "                left += 1\n",
    "                cur_len -= 1\n",
    "            if cur_len > max_len:max_len = cur_len\n",
    "            lookup.add(s[i])\n",
    "        return max_len\n"
   ]
  }
 ],
 "metadata": {
  "kernelspec": {
   "display_name": "gluon",
   "language": "python",
   "name": "python3"
  },
  "language_info": {
   "codemirror_mode": {
    "name": "ipython",
    "version": 3
   },
   "file_extension": ".py",
   "mimetype": "text/x-python",
   "name": "python",
   "nbconvert_exporter": "python",
   "pygments_lexer": "ipython3",
   "version": "3.6.15"
  }
 },
 "nbformat": 4,
 "nbformat_minor": 2
}
