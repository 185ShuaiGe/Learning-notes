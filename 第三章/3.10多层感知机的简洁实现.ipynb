{
 "cells": [
  {
   "cell_type": "code",
   "execution_count": 3,
   "metadata": {},
   "outputs": [],
   "source": [
    "import d2lzh as d2l\n",
    "from mxnet import gluon, init\n",
    "from mxnet.gluon import loss as gloss, nn"
   ]
  },
  {
   "cell_type": "markdown",
   "metadata": {},
   "source": [
    "## 1.定义模型"
   ]
  },
  {
   "cell_type": "code",
   "execution_count": 4,
   "metadata": {},
   "outputs": [],
   "source": [
    "net = nn.Sequential()\n",
    "net.add(nn.Dense(256, activation = 'relu'),\n",
    "        nn.Dense(10))\n",
    "net.initialize(init.Normal(sigma = 0.01))"
   ]
  },
  {
   "cell_type": "markdown",
   "metadata": {},
   "source": [
    "## 2.读取数据并训练模型"
   ]
  },
  {
   "cell_type": "code",
   "execution_count": null,
   "metadata": {},
   "outputs": [
    {
     "name": "stdout",
     "output_type": "stream",
     "text": [
      "epoch 1, loss 0.8042, train acc 0.695, test acc 0.826\n",
      "epoch 2, loss 0.4894, train acc 0.818, test acc 0.848\n",
      "epoch 3, loss 0.4269, train acc 0.843, test acc 0.860\n",
      "epoch 4, loss 0.3945, train acc 0.853, test acc 0.864\n",
      "epoch 5, loss 0.3691, train acc 0.863, test acc 0.871\n"
     ]
    }
   ],
   "source": [
    "batch_size = 256\n",
    "train_iter, test_iter = d2l.load_data_fashion_mnist(batch_size)\n",
    "\n",
    "\n",
    "loss = gloss.SoftmaxCrossEntropyLoss()\n",
    "trainer = gluon.Trainer(net.collect_params(), 'sgd', {'learning_rate': 0.5})\n",
    "num_epochs  =5\n",
    "d2l.train_ch3(net, train_iter, test_iter, loss, num_epochs, batch_size, None, None, trainer)"
   ]
  },
  {
   "cell_type": "code",
   "execution_count": 7,
   "metadata": {},
   "outputs": [
    {
     "name": "stdout",
     "output_type": "stream",
     "text": [
      "epoch 1, loss 1.0501, train acc 0.610, test acc 0.761\n",
      "epoch 2, loss 0.5787, train acc 0.784, test acc 0.801\n",
      "epoch 3, loss 0.5063, train acc 0.816, test acc 0.830\n",
      "epoch 4, loss 0.4680, train acc 0.830, test acc 0.844\n",
      "epoch 5, loss 0.4448, train acc 0.838, test acc 0.849\n"
     ]
    }
   ],
   "source": [
    "net2 = nn.Sequential()\n",
    "net2.add(nn.Dense(256, activation = 'sigmoid'),\n",
    "         nn.Dense(10))\n",
    "net2.initialize(init.Normal(sigma = 0.01))\n",
    "\n",
    "trainer = gluon.Trainer(net2.collect_params(), 'sgd', {'learning_rate': 0.5})\n",
    "d2l.train_ch3(net2, train_iter, test_iter, loss, num_epochs, batch_size, None, None, trainer)"
   ]
  }
 ],
 "metadata": {
  "kernelspec": {
   "display_name": "gluon",
   "language": "python",
   "name": "python3"
  },
  "language_info": {
   "codemirror_mode": {
    "name": "ipython",
    "version": 3
   },
   "file_extension": ".py",
   "mimetype": "text/x-python",
   "name": "python",
   "nbconvert_exporter": "python",
   "pygments_lexer": "ipython3",
   "version": "3.6.15"
  }
 },
 "nbformat": 4,
 "nbformat_minor": 2
}
